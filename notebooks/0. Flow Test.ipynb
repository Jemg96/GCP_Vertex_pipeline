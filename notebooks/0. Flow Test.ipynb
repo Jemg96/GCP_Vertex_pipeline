{
 "cells": [
  {
   "cell_type": "code",
   "execution_count": null,
   "id": "2dafd017-7e1d-40bc-9c27-12bca3248bde",
   "metadata": {},
   "outputs": [
    {
     "name": "stdout",
     "output_type": "stream",
     "text": [
      "/home/jupyter/Azure_repo/template-mlops\n"
     ]
    }
   ],
   "source": [
    "%cd .."
   ]
  },
  {
   "cell_type": "markdown",
   "id": "7a499429-b95e-477c-a351-84d5cd144034",
   "metadata": {},
   "source": [
    "# MAIN PROCESS"
   ]
  },
  {
   "cell_type": "code",
   "execution_count": null,
   "id": "238d77e9-c4c1-4c5e-84c0-feeefca25f1b",
   "metadata": {},
   "outputs": [
    {
     "name": "stdout",
     "output_type": "stream",
     "text": [
      "Evaluation Metrics:\n",
      "precision: 1.0\n",
      "recall: 1.0\n",
      "f1: 1.0\n"
     ]
    }
   ],
   "source": [
    "#==== Importing necessary libraries ====#\n",
    "import pandas as pd\n",
    "from sklearn.datasets import load_iris\n",
    "from src.utils import preprocess_data, train_model, evaluate_model, get_metrics\n",
    "\n",
    "#==== Loading the Iris dataset ====#\n",
    "iris = load_iris()\n",
    "data = pd.DataFrame(data=iris['data'], columns=iris['feature_names'])\n",
    "data['target'] = iris['target']\n",
    "# Define a mapping dictionary for the columns\n",
    "column_mapping = {\n",
    "    'sepal length (cm)': 'sepal_length_cm',\n",
    "    'sepal width (cm)': 'sepal_width_cm',\n",
    "    'petal length (cm)': 'petal_length_cm',\n",
    "    'petal width (cm)': 'petal_width_cm',\n",
    "}\n",
    "\n",
    "# Rename the columns using the mapping\n",
    "data.rename(columns=column_mapping, inplace=True)\n",
    "\n",
    "#==== Preprocessing the data ====#\n",
    "train_df, test_df, scaler = preprocess_data(data)\n",
    "\n",
    "#==== Training the model ====#\n",
    "# Separating features and target for training\n",
    "X_train = train_df.drop(columns=['target'])\n",
    "y_train = train_df['target']\n",
    "\n",
    "model = train_model(X_train, y_train)\n",
    "\n",
    "#==== Evaluating the model ====#\n",
    "X_test = test_df.drop(columns=['target'])\n",
    "y_test = test_df['target']\n",
    "predictions = model.predict(X_test)\n",
    "\n",
    "#==== Getting metrics ====#\n",
    "logs, conf_matrix = get_metrics(y_test, predictions)\n",
    "print(\"Evaluation Metrics:\")\n",
    "for key, value in logs.items():\n",
    "    print(f\"{key}: {value}\")"
   ]
  },
  {
   "cell_type": "code",
   "execution_count": null,
   "id": "d55a2f67-e695-4171-a852-e4768ed32847",
   "metadata": {},
   "outputs": [],
   "source": [
    "columns = list(data.columns)"
   ]
  },
  {
   "cell_type": "code",
   "execution_count": null,
   "id": "8f3fe72f-d1a8-4964-a1b8-c28084ff935e",
   "metadata": {},
   "outputs": [
    {
     "data": {
      "text/plain": [
       "['sepal_length_cm', 'sepal_width_cm', 'petal_length_cm', 'petal_width_cm']"
      ]
     },
     "execution_count": 7,
     "metadata": {},
     "output_type": "execute_result"
    }
   ],
   "source": [
    "columns[:-1]"
   ]
  },
  {
   "cell_type": "code",
   "execution_count": null,
   "id": "b2329d34-8b8b-4055-b7ce-537fb6a438f9",
   "metadata": {},
   "outputs": [
    {
     "data": {
      "text/plain": [
       "'target'"
      ]
     },
     "execution_count": 8,
     "metadata": {},
     "output_type": "execute_result"
    }
   ],
   "source": [
    "columns[-1]"
   ]
  },
  {
   "cell_type": "code",
   "execution_count": null,
   "id": "fb9fd2ce-715f-4318-92b9-52594d5fd226",
   "metadata": {},
   "outputs": [],
   "source": [
    "target_classes = sorted(y_train.unique())"
   ]
  },
  {
   "cell_type": "code",
   "execution_count": null,
   "id": "7c2d06c3-dc40-4157-b950-24dbb8a54dbb",
   "metadata": {},
   "outputs": [
    {
     "data": {
      "text/plain": [
       "list"
      ]
     },
     "execution_count": 14,
     "metadata": {},
     "output_type": "execute_result"
    }
   ],
   "source": [
    "type(target_classes)"
   ]
  },
  {
   "cell_type": "code",
   "execution_count": null,
   "id": "a22547a0-8478-4595-abf0-5517ab4e9388",
   "metadata": {},
   "outputs": [],
   "source": [
    "random_sample = data.sample(n=min(100, len(data)), random_state=42) # The random_state ensures reproducibility"
   ]
  },
  {
   "cell_type": "code",
   "execution_count": null,
   "id": "4412b5c0-8da8-43bb-9b19-c4898a2c403d",
   "metadata": {},
   "outputs": [
    {
     "data": {
      "text/html": [
       "<div>\n",
       "<style scoped>\n",
       "    .dataframe tbody tr th:only-of-type {\n",
       "        vertical-align: middle;\n",
       "    }\n",
       "\n",
       "    .dataframe tbody tr th {\n",
       "        vertical-align: top;\n",
       "    }\n",
       "\n",
       "    .dataframe thead th {\n",
       "        text-align: right;\n",
       "    }\n",
       "</style>\n",
       "<table border=\"1\" class=\"dataframe\">\n",
       "  <thead>\n",
       "    <tr style=\"text-align: right;\">\n",
       "      <th></th>\n",
       "      <th>sepal length (cm)</th>\n",
       "      <th>sepal width (cm)</th>\n",
       "      <th>petal length (cm)</th>\n",
       "      <th>petal width (cm)</th>\n",
       "      <th>target</th>\n",
       "    </tr>\n",
       "  </thead>\n",
       "  <tbody>\n",
       "    <tr>\n",
       "      <th>73</th>\n",
       "      <td>6.1</td>\n",
       "      <td>2.8</td>\n",
       "      <td>4.7</td>\n",
       "      <td>1.2</td>\n",
       "      <td>1</td>\n",
       "    </tr>\n",
       "    <tr>\n",
       "      <th>18</th>\n",
       "      <td>5.7</td>\n",
       "      <td>3.8</td>\n",
       "      <td>1.7</td>\n",
       "      <td>0.3</td>\n",
       "      <td>0</td>\n",
       "    </tr>\n",
       "    <tr>\n",
       "      <th>118</th>\n",
       "      <td>7.7</td>\n",
       "      <td>2.6</td>\n",
       "      <td>6.9</td>\n",
       "      <td>2.3</td>\n",
       "      <td>2</td>\n",
       "    </tr>\n",
       "    <tr>\n",
       "      <th>78</th>\n",
       "      <td>6.0</td>\n",
       "      <td>2.9</td>\n",
       "      <td>4.5</td>\n",
       "      <td>1.5</td>\n",
       "      <td>1</td>\n",
       "    </tr>\n",
       "    <tr>\n",
       "      <th>76</th>\n",
       "      <td>6.8</td>\n",
       "      <td>2.8</td>\n",
       "      <td>4.8</td>\n",
       "      <td>1.4</td>\n",
       "      <td>1</td>\n",
       "    </tr>\n",
       "    <tr>\n",
       "      <th>...</th>\n",
       "      <td>...</td>\n",
       "      <td>...</td>\n",
       "      <td>...</td>\n",
       "      <td>...</td>\n",
       "      <td>...</td>\n",
       "    </tr>\n",
       "    <tr>\n",
       "      <th>89</th>\n",
       "      <td>5.5</td>\n",
       "      <td>2.5</td>\n",
       "      <td>4.0</td>\n",
       "      <td>1.3</td>\n",
       "      <td>1</td>\n",
       "    </tr>\n",
       "    <tr>\n",
       "      <th>8</th>\n",
       "      <td>4.4</td>\n",
       "      <td>2.9</td>\n",
       "      <td>1.4</td>\n",
       "      <td>0.2</td>\n",
       "      <td>0</td>\n",
       "    </tr>\n",
       "    <tr>\n",
       "      <th>13</th>\n",
       "      <td>4.3</td>\n",
       "      <td>3.0</td>\n",
       "      <td>1.1</td>\n",
       "      <td>0.1</td>\n",
       "      <td>0</td>\n",
       "    </tr>\n",
       "    <tr>\n",
       "      <th>119</th>\n",
       "      <td>6.0</td>\n",
       "      <td>2.2</td>\n",
       "      <td>5.0</td>\n",
       "      <td>1.5</td>\n",
       "      <td>2</td>\n",
       "    </tr>\n",
       "    <tr>\n",
       "      <th>125</th>\n",
       "      <td>7.2</td>\n",
       "      <td>3.2</td>\n",
       "      <td>6.0</td>\n",
       "      <td>1.8</td>\n",
       "      <td>2</td>\n",
       "    </tr>\n",
       "  </tbody>\n",
       "</table>\n",
       "<p>100 rows × 5 columns</p>\n",
       "</div>"
      ],
      "text/plain": [
       "     sepal length (cm)  sepal width (cm)  petal length (cm)  petal width (cm)  \\\n",
       "73                 6.1               2.8                4.7               1.2   \n",
       "18                 5.7               3.8                1.7               0.3   \n",
       "118                7.7               2.6                6.9               2.3   \n",
       "78                 6.0               2.9                4.5               1.5   \n",
       "76                 6.8               2.8                4.8               1.4   \n",
       "..                 ...               ...                ...               ...   \n",
       "89                 5.5               2.5                4.0               1.3   \n",
       "8                  4.4               2.9                1.4               0.2   \n",
       "13                 4.3               3.0                1.1               0.1   \n",
       "119                6.0               2.2                5.0               1.5   \n",
       "125                7.2               3.2                6.0               1.8   \n",
       "\n",
       "     target  \n",
       "73        1  \n",
       "18        0  \n",
       "118       2  \n",
       "78        1  \n",
       "76        1  \n",
       "..      ...  \n",
       "89        1  \n",
       "8         0  \n",
       "13        0  \n",
       "119       2  \n",
       "125       2  \n",
       "\n",
       "[100 rows x 5 columns]"
      ]
     },
     "execution_count": 11,
     "metadata": {},
     "output_type": "execute_result"
    }
   ],
   "source": [
    "random_sample"
   ]
  }
 ],
 "metadata": {
  "environment": {
   "kernel": "python3",
   "name": "tf2-gpu.2-11.m108",
   "type": "gcloud",
   "uri": "gcr.io/deeplearning-platform-release/tf2-gpu.2-11:m108"
  },
  "kernelspec": {
   "display_name": "Python 3 (ipykernel)",
   "language": "python",
   "name": "python3"
  },
  "language_info": {
   "codemirror_mode": {
    "name": "ipython",
    "version": 3
   },
   "file_extension": ".py",
   "mimetype": "text/x-python",
   "name": "python",
   "nbconvert_exporter": "python",
   "pygments_lexer": "ipython3",
   "version": "3.10.10"
  }
 },
 "nbformat": 4,
 "nbformat_minor": 5
}
